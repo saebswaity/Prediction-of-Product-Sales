{
  "nbformat": 4,
  "nbformat_minor": 0,
  "metadata": {
    "colab": {
      "provenance": [],
      "authorship_tag": "ABX9TyNgaLyOGtz2rspQGIxEdSyx",
      "include_colab_link": true
    },
    "kernelspec": {
      "name": "python3",
      "display_name": "Python 3"
    },
    "language_info": {
      "name": "python"
    }
  },
  "cells": [
    {
      "cell_type": "markdown",
      "metadata": {
        "id": "view-in-github",
        "colab_type": "text"
      },
      "source": [
        "<a href=\"https://colab.research.google.com/github/saebswaity/Prediction-of-Product-Sales/blob/main/Prediction_of_Product_Sales.ipynb\" target=\"_parent\"><img src=\"https://colab.research.google.com/assets/colab-badge.svg\" alt=\"Open In Colab\"/></a>"
      ]
    },
    {
      "cell_type": "markdown",
      "source": [
        "# Project Title: Prediction of Product Sales\n",
        "\n",
        "- Author: Saeb Swaity\n",
        "\n"
      ],
      "metadata": {
        "id": "wupXp2Ej2-Vw"
      }
    },
    {
      "cell_type": "markdown",
      "source": [
        "## Project Overview\n",
        "\n",
        "This Colab Notebook is part of the \"Prediction of Product Sales\" project, aiming to ...\n",
        "\n"
      ],
      "metadata": {
        "id": "bYYP2zbe3OHQ"
      }
    },
    {
      "cell_type": "markdown",
      "source": [
        "## Load and Inspect Data\n",
        "\n",
        "\n"
      ],
      "metadata": {
        "id": "MxhEu30H3S8Z"
      }
    },
    {
      "cell_type": "markdown",
      "source": [
        "## Clean Data\n",
        "\n",
        "\n"
      ],
      "metadata": {
        "id": "Cfzmav3r3cfA"
      }
    },
    {
      "cell_type": "markdown",
      "source": [
        "## Exploratory Data Analysis\n",
        "\n",
        "\n"
      ],
      "metadata": {
        "id": "LpOvN-is3kE3"
      }
    },
    {
      "cell_type": "markdown",
      "source": [
        "## Feature Inspection\n",
        "\n"
      ],
      "metadata": {
        "id": "I2wQH-Ws3kO5"
      }
    },
    {
      "cell_type": "code",
      "source": [],
      "metadata": {
        "id": "-VdRazIC3Dg5"
      },
      "execution_count": null,
      "outputs": []
    }
  ]
}