{
  "nbformat": 4,
  "nbformat_minor": 0,
  "metadata": {
    "colab": {
      "provenance": [],
      "authorship_tag": "ABX9TyOSryHhs3VTpuFaZm42a5xl",
      "include_colab_link": true
    },
    "kernelspec": {
      "name": "python3",
      "display_name": "Python 3"
    },
    "language_info": {
      "name": "python"
    }
  },
  "cells": [
    {
      "cell_type": "markdown",
      "metadata": {
        "id": "view-in-github",
        "colab_type": "text"
      },
      "source": [
        "<a href=\"https://colab.research.google.com/github/saebswaity/Prediction-of-Product-Sales/blob/main/Copy_of_Prediction_of_Product_Sales.ipynb\" target=\"_parent\"><img src=\"https://colab.research.google.com/assets/colab-badge.svg\" alt=\"Open In Colab\"/></a>"
      ]
    },
    {
      "cell_type": "markdown",
      "source": [
        "# Project Title: Prediction of Product Sales\n",
        "\n",
        "- Author: Saeb Swaity\n",
        "\n"
      ],
      "metadata": {
        "id": "wupXp2Ej2-Vw"
      }
    },
    {
      "cell_type": "markdown",
      "source": [
        "## Project Overview\n",
        "\n",
        "This Colab Notebook is part of the \"Prediction of Product Sales\" project, aiming to ...\n",
        "\n"
      ],
      "metadata": {
        "id": "bYYP2zbe3OHQ"
      }
    },
    {
      "cell_type": "markdown",
      "source": [
        "## Load and Inspect Data\n",
        "\n",
        "\n"
      ],
      "metadata": {
        "id": "MxhEu30H3S8Z"
      }
    },
    {
      "cell_type": "code",
      "source": [
        "# Loading Data\n",
        "import pandas as pd\n",
        "\n",
        "# Read the sales prediction data set into Google Colab\n",
        "df = pd.read_csv(\"/content/sales_predictions_2023.csv\")\n",
        "\n",
        "# Preview the first rows of the data and summary of columns\n",
        "print(\"Preview of the first rows of data:\")\n",
        "print(df.head())\n",
        "print(\"\\nSummary of DataFrame's columns:\")\n",
        "print(df.info())"
      ],
      "metadata": {
        "id": "F8nVA8rV7Q0D",
        "outputId": "c61b1e27-373f-44cd-e4e4-073b6c6bf371",
        "colab": {
          "base_uri": "https://localhost:8080/"
        }
      },
      "execution_count": 7,
      "outputs": [
        {
          "output_type": "stream",
          "name": "stdout",
          "text": [
            "Preview of the first rows of data:\n",
            "  Item_Identifier  Item_Weight Item_Fat_Content  Item_Visibility  \\\n",
            "0           FDA15         9.30          Low Fat         0.016047   \n",
            "1           DRC01         5.92          Regular         0.019278   \n",
            "2           FDN15        17.50          Low Fat         0.016760   \n",
            "3           FDX07        19.20          Regular         0.000000   \n",
            "4           NCD19         8.93          Low Fat         0.000000   \n",
            "\n",
            "               Item_Type  Item_MRP Outlet_Identifier  \\\n",
            "0                  Dairy  249.8092            OUT049   \n",
            "1            Soft Drinks   48.2692            OUT018   \n",
            "2                   Meat  141.6180            OUT049   \n",
            "3  Fruits and Vegetables  182.0950            OUT010   \n",
            "4              Household   53.8614            OUT013   \n",
            "\n",
            "   Outlet_Establishment_Year Outlet_Size Outlet_Location_Type  \\\n",
            "0                       1999      Medium               Tier 1   \n",
            "1                       2009      Medium               Tier 3   \n",
            "2                       1999      Medium               Tier 1   \n",
            "3                       1998         NaN               Tier 3   \n",
            "4                       1987        High               Tier 3   \n",
            "\n",
            "         Outlet_Type  Item_Outlet_Sales  \n",
            "0  Supermarket Type1          3735.1380  \n",
            "1  Supermarket Type2           443.4228  \n",
            "2  Supermarket Type1          2097.2700  \n",
            "3      Grocery Store           732.3800  \n",
            "4  Supermarket Type1           994.7052  \n",
            "\n",
            "Summary of DataFrame's columns:\n",
            "<class 'pandas.core.frame.DataFrame'>\n",
            "RangeIndex: 8523 entries, 0 to 8522\n",
            "Data columns (total 12 columns):\n",
            " #   Column                     Non-Null Count  Dtype  \n",
            "---  ------                     --------------  -----  \n",
            " 0   Item_Identifier            8523 non-null   object \n",
            " 1   Item_Weight                7060 non-null   float64\n",
            " 2   Item_Fat_Content           8523 non-null   object \n",
            " 3   Item_Visibility            8523 non-null   float64\n",
            " 4   Item_Type                  8523 non-null   object \n",
            " 5   Item_MRP                   8523 non-null   float64\n",
            " 6   Outlet_Identifier          8523 non-null   object \n",
            " 7   Outlet_Establishment_Year  8523 non-null   int64  \n",
            " 8   Outlet_Size                6113 non-null   object \n",
            " 9   Outlet_Location_Type       8523 non-null   object \n",
            " 10  Outlet_Type                8523 non-null   object \n",
            " 11  Item_Outlet_Sales          8523 non-null   float64\n",
            "dtypes: float64(4), int64(1), object(7)\n",
            "memory usage: 799.2+ KB\n",
            "None\n"
          ]
        }
      ]
    },
    {
      "cell_type": "markdown",
      "source": [
        "## Clean Data\n",
        "\n",
        "\n"
      ],
      "metadata": {
        "id": "Cfzmav3r3cfA"
      }
    },
    {
      "cell_type": "code",
      "source": [
        "df_old = df.copy()"
      ],
      "metadata": {
        "id": "dnLzauBg7jl3"
      },
      "execution_count": 8,
      "outputs": []
    },
    {
      "cell_type": "code",
      "source": [
        "# Data Cleaning\n",
        "print(\"\\nData Cleaning:\")\n",
        "\n",
        "# 1) How many rows and columns?\n",
        "num_rows, num_cols = df.shape\n",
        "print(f\"Number of rows: {num_rows}\")\n",
        "print(f\"Number of columns: {num_cols}\")\n",
        "\n",
        "# 2) What are the datatypes of each variable?\n",
        "print(\"\\nDatatypes of each variable:\")\n",
        "print(df.dtypes)\n",
        "\n"
      ],
      "metadata": {
        "id": "Qy-FC06g7V6s",
        "colab": {
          "base_uri": "https://localhost:8080/"
        },
        "outputId": "92795b1a-0411-4191-851b-fa5b69c41d8b"
      },
      "execution_count": 9,
      "outputs": [
        {
          "output_type": "stream",
          "name": "stdout",
          "text": [
            "\n",
            "Data Cleaning:\n",
            "Number of rows: 8523\n",
            "Number of columns: 12\n",
            "\n",
            "Datatypes of each variable:\n",
            "Item_Identifier               object\n",
            "Item_Weight                  float64\n",
            "Item_Fat_Content              object\n",
            "Item_Visibility              float64\n",
            "Item_Type                     object\n",
            "Item_MRP                     float64\n",
            "Outlet_Identifier             object\n",
            "Outlet_Establishment_Year      int64\n",
            "Outlet_Size                   object\n",
            "Outlet_Location_Type          object\n",
            "Outlet_Type                   object\n",
            "Item_Outlet_Sales            float64\n",
            "dtype: object\n"
          ]
        }
      ]
    },
    {
      "cell_type": "code",
      "source": [
        "df.duplicated().sum()\n"
      ],
      "metadata": {
        "colab": {
          "base_uri": "https://localhost:8080/"
        },
        "id": "ysfvqDMo7-Au",
        "outputId": "c7561b37-115f-4199-816e-4d9e302b1f72"
      },
      "execution_count": 10,
      "outputs": [
        {
          "output_type": "execute_result",
          "data": {
            "text/plain": [
              "0"
            ]
          },
          "metadata": {},
          "execution_count": 10
        }
      ]
    },
    {
      "cell_type": "code",
      "source": [
        "# 3) Are there duplicates? If so, drop any duplicates.\n",
        "duplicates = df.duplicated().sum()\n",
        "if duplicates > 0:\n",
        "    df.drop_duplicates(inplace=True)\n",
        "    print(f\"\\nDropped {duplicates} duplicate rows.\")\n",
        "else :\n",
        "  print(\"no dublicated found !\")"
      ],
      "metadata": {
        "colab": {
          "base_uri": "https://localhost:8080/"
        },
        "id": "oohD9dsT7wn8",
        "outputId": "8952cd87-8b67-4957-a969-1a79473c4e32"
      },
      "execution_count": 11,
      "outputs": [
        {
          "output_type": "stream",
          "name": "stdout",
          "text": [
            "no dublicated found !\n"
          ]
        }
      ]
    },
    {
      "cell_type": "code",
      "source": [
        "# 4) Identify missing values.\n",
        "print(\"\\nIdentifying missing values:\")\n",
        "missing_values = df.isnull().sum()\n",
        "print(missing_values)"
      ],
      "metadata": {
        "colab": {
          "base_uri": "https://localhost:8080/"
        },
        "id": "Jt0oYvoC8Iwt",
        "outputId": "4d15d1c9-3820-4316-ce76-9f6a709686ff"
      },
      "execution_count": 12,
      "outputs": [
        {
          "output_type": "stream",
          "name": "stdout",
          "text": [
            "\n",
            "Identifying missing values:\n",
            "Item_Identifier                 0\n",
            "Item_Weight                  1463\n",
            "Item_Fat_Content                0\n",
            "Item_Visibility                 0\n",
            "Item_Type                       0\n",
            "Item_MRP                        0\n",
            "Outlet_Identifier               0\n",
            "Outlet_Establishment_Year       0\n",
            "Outlet_Size                  2410\n",
            "Outlet_Location_Type            0\n",
            "Outlet_Type                     0\n",
            "Item_Outlet_Sales               0\n",
            "dtype: int64\n"
          ]
        }
      ]
    },
    {
      "cell_type": "code",
      "source": [
        "# 5) Address the missing values by using a placeholder value.\n",
        "print(\"\\nAddressing missing values:\")\n",
        "# Assuming placeholder value for missing values in numerical columns is 0\n",
        "df.fillna(0, inplace=True)"
      ],
      "metadata": {
        "colab": {
          "base_uri": "https://localhost:8080/"
        },
        "id": "rFc8W1H-8RWL",
        "outputId": "89500488-a599-4e16-8987-13abd06b9733"
      },
      "execution_count": 13,
      "outputs": [
        {
          "output_type": "stream",
          "name": "stdout",
          "text": [
            "\n",
            "Addressing missing values:\n"
          ]
        }
      ]
    },
    {
      "cell_type": "code",
      "source": [
        "# 6) Confirm that there are no missing values after addressing them.\n",
        "print(\"\\nConfirming no missing values:\")\n",
        "print(df.isnull().sum())"
      ],
      "metadata": {
        "colab": {
          "base_uri": "https://localhost:8080/"
        },
        "id": "fc5AY8XP8XGP",
        "outputId": "ff44fa20-a4c0-4228-b866-a91f671efc4a"
      },
      "execution_count": 15,
      "outputs": [
        {
          "output_type": "stream",
          "name": "stdout",
          "text": [
            "\n",
            "Confirming no missing values:\n",
            "Item_Identifier              0\n",
            "Item_Weight                  0\n",
            "Item_Fat_Content             0\n",
            "Item_Visibility              0\n",
            "Item_Type                    0\n",
            "Item_MRP                     0\n",
            "Outlet_Identifier            0\n",
            "Outlet_Establishment_Year    0\n",
            "Outlet_Size                  0\n",
            "Outlet_Location_Type         0\n",
            "Outlet_Type                  0\n",
            "Item_Outlet_Sales            0\n",
            "dtype: int64\n"
          ]
        }
      ]
    },
    {
      "cell_type": "code",
      "source": [
        "# 7) Find and fix any inconsistent categories of data.\n",
        "print(\"\\nFixing inconsistent categories of data:\")\n",
        "# Iterate over each object column\n",
        "for column in df.select_dtypes(include=['object']).columns:\n",
        "    print(f\"\\nUnique values in column '{column}':\")\n",
        "    print(df[column].value_counts())"
      ],
      "metadata": {
        "colab": {
          "base_uri": "https://localhost:8080/"
        },
        "id": "OH-OfjZo8477",
        "outputId": "7d78f334-41b3-41bc-a945-0fd31611db4a"
      },
      "execution_count": 17,
      "outputs": [
        {
          "output_type": "stream",
          "name": "stdout",
          "text": [
            "\n",
            "Fixing inconsistent categories of data:\n",
            "\n",
            "Unique values in column 'Item_Identifier':\n",
            "FDW13    10\n",
            "FDG33    10\n",
            "NCY18     9\n",
            "FDD38     9\n",
            "DRE49     9\n",
            "         ..\n",
            "FDY43     1\n",
            "FDQ60     1\n",
            "FDO33     1\n",
            "DRF48     1\n",
            "FDC23     1\n",
            "Name: Item_Identifier, Length: 1559, dtype: int64\n",
            "\n",
            "Unique values in column 'Item_Fat_Content':\n",
            "Low Fat    5089\n",
            "Regular    2889\n",
            "LF          316\n",
            "reg         117\n",
            "low fat     112\n",
            "Name: Item_Fat_Content, dtype: int64\n",
            "\n",
            "Unique values in column 'Item_Type':\n",
            "Fruits and Vegetables    1232\n",
            "Snack Foods              1200\n",
            "Household                 910\n",
            "Frozen Foods              856\n",
            "Dairy                     682\n",
            "Canned                    649\n",
            "Baking Goods              648\n",
            "Health and Hygiene        520\n",
            "Soft Drinks               445\n",
            "Meat                      425\n",
            "Breads                    251\n",
            "Hard Drinks               214\n",
            "Others                    169\n",
            "Starchy Foods             148\n",
            "Breakfast                 110\n",
            "Seafood                    64\n",
            "Name: Item_Type, dtype: int64\n",
            "\n",
            "Unique values in column 'Outlet_Identifier':\n",
            "OUT027    935\n",
            "OUT013    932\n",
            "OUT049    930\n",
            "OUT046    930\n",
            "OUT035    930\n",
            "OUT045    929\n",
            "OUT018    928\n",
            "OUT017    926\n",
            "OUT010    555\n",
            "OUT019    528\n",
            "Name: Outlet_Identifier, dtype: int64\n",
            "\n",
            "Unique values in column 'Outlet_Size':\n",
            "Medium    2793\n",
            "0         2410\n",
            "Small     2388\n",
            "High       932\n",
            "Name: Outlet_Size, dtype: int64\n",
            "\n",
            "Unique values in column 'Outlet_Location_Type':\n",
            "Tier 3    3350\n",
            "Tier 2    2785\n",
            "Tier 1    2388\n",
            "Name: Outlet_Location_Type, dtype: int64\n",
            "\n",
            "Unique values in column 'Outlet_Type':\n",
            "Supermarket Type1    5577\n",
            "Grocery Store        1083\n",
            "Supermarket Type3     935\n",
            "Supermarket Type2     928\n",
            "Name: Outlet_Type, dtype: int64\n"
          ]
        }
      ]
    },
    {
      "cell_type": "code",
      "source": [
        "for column in df.select_dtypes(include=['object']).columns:\n",
        "    unique_values = df[column].value_counts()\n",
        "    num_unique_values = len(unique_values)\n",
        "\n",
        "    print(f\"\\nColumn '{column}' has {num_unique_values} unique values.\")\n"
      ],
      "metadata": {
        "colab": {
          "base_uri": "https://localhost:8080/"
        },
        "id": "MNSd6nh5EZTX",
        "outputId": "e78af3ad-d39a-4217-c13e-5bb39ff05703"
      },
      "execution_count": 21,
      "outputs": [
        {
          "output_type": "stream",
          "name": "stdout",
          "text": [
            "\n",
            "Column 'Item_Identifier' has 1559 unique values.\n",
            "\n",
            "Column 'Item_Fat_Content' has 5 unique values.\n",
            "\n",
            "Column 'Item_Type' has 16 unique values.\n",
            "\n",
            "Column 'Outlet_Identifier' has 10 unique values.\n",
            "\n",
            "Column 'Outlet_Size' has 4 unique values.\n",
            "\n",
            "Column 'Outlet_Location_Type' has 3 unique values.\n",
            "\n",
            "Column 'Outlet_Type' has 4 unique values.\n"
          ]
        }
      ]
    },
    {
      "cell_type": "code",
      "source": [
        "# Replace '0' with placeholder value in the 'Outlet_Size' column\n",
        "df['Outlet_Size'].replace(0, 'missing', inplace=True)\n",
        "\n",
        "# Verify the changes\n",
        "print(\"\\nAfter replacing missing values:\")\n",
        "print(df['Outlet_Size'].value_counts())"
      ],
      "metadata": {
        "colab": {
          "base_uri": "https://localhost:8080/"
        },
        "id": "3yyxonBH8dyu",
        "outputId": "af688fe0-f544-4b8c-df08-b9f9156c4b65"
      },
      "execution_count": 19,
      "outputs": [
        {
          "output_type": "stream",
          "name": "stdout",
          "text": [
            "\n",
            "After replacing missing values:\n",
            "Medium     2793\n",
            "missing    2410\n",
            "Small      2388\n",
            "High        932\n",
            "Name: Outlet_Size, dtype: int64\n"
          ]
        }
      ]
    },
    {
      "cell_type": "code",
      "source": [
        "# The 'Item_Identifier' column is being deleted because it contains 1559 unique values,\n",
        "\n",
        "df.drop(columns=['Item_Identifier'], inplace=True)"
      ],
      "metadata": {
        "id": "_wsL3dGtFPdW"
      },
      "execution_count": 22,
      "outputs": []
    },
    {
      "cell_type": "code",
      "source": [
        "# Verify the changes\n",
        "print(\"\\nDataFrame after deleting 'Item_Identifier' column:\")\n",
        "print(df.head())"
      ],
      "metadata": {
        "colab": {
          "base_uri": "https://localhost:8080/"
        },
        "id": "iGasaWANFa6n",
        "outputId": "5fbf8d1e-6b44-4013-d38f-7b9c346dd589"
      },
      "execution_count": 23,
      "outputs": [
        {
          "output_type": "stream",
          "name": "stdout",
          "text": [
            "\n",
            "DataFrame after deleting 'Item_Identifier' column:\n",
            "   Item_Weight Item_Fat_Content  Item_Visibility              Item_Type  \\\n",
            "0         9.30          Low Fat         0.016047                  Dairy   \n",
            "1         5.92          Regular         0.019278            Soft Drinks   \n",
            "2        17.50          Low Fat         0.016760                   Meat   \n",
            "3        19.20          Regular         0.000000  Fruits and Vegetables   \n",
            "4         8.93          Low Fat         0.000000              Household   \n",
            "\n",
            "   Item_MRP Outlet_Identifier  Outlet_Establishment_Year Outlet_Size  \\\n",
            "0  249.8092            OUT049                       1999      Medium   \n",
            "1   48.2692            OUT018                       2009      Medium   \n",
            "2  141.6180            OUT049                       1999      Medium   \n",
            "3  182.0950            OUT010                       1998     missing   \n",
            "4   53.8614            OUT013                       1987        High   \n",
            "\n",
            "  Outlet_Location_Type        Outlet_Type  Item_Outlet_Sales  \n",
            "0               Tier 1  Supermarket Type1          3735.1380  \n",
            "1               Tier 3  Supermarket Type2           443.4228  \n",
            "2               Tier 1  Supermarket Type1          2097.2700  \n",
            "3               Tier 3      Grocery Store           732.3800  \n",
            "4               Tier 3  Supermarket Type1           994.7052  \n"
          ]
        }
      ]
    },
    {
      "cell_type": "code",
      "source": [
        "# Convert categorical columns to one-hot encoding\n",
        "df_encoded = pd.get_dummies(df, columns=df.select_dtypes(include=['object']).columns)\n",
        "\n",
        "# Verify the changes\n",
        "print(\"\\nDataFrame after converting categorical columns to one-hot encoding:\")\n",
        "print(df_encoded.head())\n"
      ],
      "metadata": {
        "colab": {
          "base_uri": "https://localhost:8080/"
        },
        "id": "ZuSXUffxF3zW",
        "outputId": "348fac16-2a2f-4b31-e14a-16fcc1c6f20f"
      },
      "execution_count": 24,
      "outputs": [
        {
          "output_type": "stream",
          "name": "stdout",
          "text": [
            "\n",
            "DataFrame after converting categorical columns to one-hot encoding:\n",
            "   Item_Weight  Item_Visibility  Item_MRP  Outlet_Establishment_Year  \\\n",
            "0         9.30         0.016047  249.8092                       1999   \n",
            "1         5.92         0.019278   48.2692                       2009   \n",
            "2        17.50         0.016760  141.6180                       1999   \n",
            "3        19.20         0.000000  182.0950                       1998   \n",
            "4         8.93         0.000000   53.8614                       1987   \n",
            "\n",
            "   Item_Outlet_Sales  Item_Fat_Content_LF  Item_Fat_Content_Low Fat  \\\n",
            "0          3735.1380                    0                         1   \n",
            "1           443.4228                    0                         0   \n",
            "2          2097.2700                    0                         1   \n",
            "3           732.3800                    0                         0   \n",
            "4           994.7052                    0                         1   \n",
            "\n",
            "   Item_Fat_Content_Regular  Item_Fat_Content_low fat  Item_Fat_Content_reg  \\\n",
            "0                         0                         0                     0   \n",
            "1                         1                         0                     0   \n",
            "2                         0                         0                     0   \n",
            "3                         1                         0                     0   \n",
            "4                         0                         0                     0   \n",
            "\n",
            "   ...  Outlet_Size_Medium  Outlet_Size_Small  Outlet_Size_missing  \\\n",
            "0  ...                   1                  0                    0   \n",
            "1  ...                   1                  0                    0   \n",
            "2  ...                   1                  0                    0   \n",
            "3  ...                   0                  0                    1   \n",
            "4  ...                   0                  0                    0   \n",
            "\n",
            "   Outlet_Location_Type_Tier 1  Outlet_Location_Type_Tier 2  \\\n",
            "0                            1                            0   \n",
            "1                            0                            0   \n",
            "2                            1                            0   \n",
            "3                            0                            0   \n",
            "4                            0                            0   \n",
            "\n",
            "   Outlet_Location_Type_Tier 3  Outlet_Type_Grocery Store  \\\n",
            "0                            0                          0   \n",
            "1                            1                          0   \n",
            "2                            0                          0   \n",
            "3                            1                          1   \n",
            "4                            1                          0   \n",
            "\n",
            "   Outlet_Type_Supermarket Type1  Outlet_Type_Supermarket Type2  \\\n",
            "0                              1                              0   \n",
            "1                              0                              1   \n",
            "2                              1                              0   \n",
            "3                              0                              0   \n",
            "4                              1                              0   \n",
            "\n",
            "   Outlet_Type_Supermarket Type3  \n",
            "0                              0  \n",
            "1                              0  \n",
            "2                              0  \n",
            "3                              0  \n",
            "4                              0  \n",
            "\n",
            "[5 rows x 47 columns]\n"
          ]
        }
      ]
    },
    {
      "cell_type": "code",
      "source": [
        "# Data Cleaning\n",
        "print(\"\\nData Cleaning:\")\n",
        "\n",
        "# 1) How many rows and columns?\n",
        "num_rows, num_cols = df_encoded.shape\n",
        "print(f\"Number of rows: {num_rows}\")\n",
        "print(f\"Number of columns: {num_cols}\")\n",
        "\n",
        "# 2) What are the datatypes of each variable?\n",
        "print(\"\\nDatatypes of each variable:\")\n",
        "print(df_encoded.dtypes)\n",
        "\n"
      ],
      "metadata": {
        "colab": {
          "base_uri": "https://localhost:8080/"
        },
        "id": "SNtQo1mMGHyA",
        "outputId": "eae9804d-d562-468c-de1d-efae82806243"
      },
      "execution_count": 26,
      "outputs": [
        {
          "output_type": "stream",
          "name": "stdout",
          "text": [
            "\n",
            "Data Cleaning:\n",
            "Number of rows: 8523\n",
            "Number of columns: 47\n",
            "\n",
            "Datatypes of each variable:\n",
            "Item_Weight                        float64\n",
            "Item_Visibility                    float64\n",
            "Item_MRP                           float64\n",
            "Outlet_Establishment_Year            int64\n",
            "Item_Outlet_Sales                  float64\n",
            "Item_Fat_Content_LF                  uint8\n",
            "Item_Fat_Content_Low Fat             uint8\n",
            "Item_Fat_Content_Regular             uint8\n",
            "Item_Fat_Content_low fat             uint8\n",
            "Item_Fat_Content_reg                 uint8\n",
            "Item_Type_Baking Goods               uint8\n",
            "Item_Type_Breads                     uint8\n",
            "Item_Type_Breakfast                  uint8\n",
            "Item_Type_Canned                     uint8\n",
            "Item_Type_Dairy                      uint8\n",
            "Item_Type_Frozen Foods               uint8\n",
            "Item_Type_Fruits and Vegetables      uint8\n",
            "Item_Type_Hard Drinks                uint8\n",
            "Item_Type_Health and Hygiene         uint8\n",
            "Item_Type_Household                  uint8\n",
            "Item_Type_Meat                       uint8\n",
            "Item_Type_Others                     uint8\n",
            "Item_Type_Seafood                    uint8\n",
            "Item_Type_Snack Foods                uint8\n",
            "Item_Type_Soft Drinks                uint8\n",
            "Item_Type_Starchy Foods              uint8\n",
            "Outlet_Identifier_OUT010             uint8\n",
            "Outlet_Identifier_OUT013             uint8\n",
            "Outlet_Identifier_OUT017             uint8\n",
            "Outlet_Identifier_OUT018             uint8\n",
            "Outlet_Identifier_OUT019             uint8\n",
            "Outlet_Identifier_OUT027             uint8\n",
            "Outlet_Identifier_OUT035             uint8\n",
            "Outlet_Identifier_OUT045             uint8\n",
            "Outlet_Identifier_OUT046             uint8\n",
            "Outlet_Identifier_OUT049             uint8\n",
            "Outlet_Size_High                     uint8\n",
            "Outlet_Size_Medium                   uint8\n",
            "Outlet_Size_Small                    uint8\n",
            "Outlet_Size_missing                  uint8\n",
            "Outlet_Location_Type_Tier 1          uint8\n",
            "Outlet_Location_Type_Tier 2          uint8\n",
            "Outlet_Location_Type_Tier 3          uint8\n",
            "Outlet_Type_Grocery Store            uint8\n",
            "Outlet_Type_Supermarket Type1        uint8\n",
            "Outlet_Type_Supermarket Type2        uint8\n",
            "Outlet_Type_Supermarket Type3        uint8\n",
            "dtype: object\n"
          ]
        }
      ]
    },
    {
      "cell_type": "markdown",
      "source": [
        "## Exploratory Data Analysis\n",
        "\n",
        "\n"
      ],
      "metadata": {
        "id": "LpOvN-is3kE3"
      }
    },
    {
      "cell_type": "markdown",
      "source": [
        "## Feature Inspection\n",
        "\n"
      ],
      "metadata": {
        "id": "I2wQH-Ws3kO5"
      }
    },
    {
      "cell_type": "code",
      "source": [],
      "metadata": {
        "id": "-VdRazIC3Dg5"
      },
      "execution_count": null,
      "outputs": []
    }
  ]
}